{
  "cells": [
    {
      "cell_type": "markdown",
      "metadata": {
        "id": "view-in-github",
        "colab_type": "text"
      },
      "source": [
        "<a href=\"https://colab.research.google.com/github/aayushmanace/Computer-Vision/blob/main/MidSem.ipynb\" target=\"_parent\"><img src=\"https://colab.research.google.com/assets/colab-badge.svg\" alt=\"Open In Colab\"/></a>"
      ]
    },
    {
      "cell_type": "code",
      "execution_count": null,
      "metadata": {
        "id": "TMyJSTNpL5JS"
      },
      "outputs": [],
      "source": [
        "import cv2 as cv\n",
        "import matplotlib.pyplot as plt\n",
        "import numpy as np\n",
        "from skimage.measure import label\n"
      ]
    },
    {
      "cell_type": "code",
      "execution_count": null,
      "metadata": {
        "id": "P0s8x6JgL5JV",
        "outputId": "6c6ed2ae-ba90-4e0c-e04a-a89c050fe1d6"
      },
      "outputs": [
        {
          "data": {
            "image/png": "[encoded data removed]",
            "text/plain": [
              "<Figure size 432x288 with 1 Axes>"
            ]
          },
          "metadata": {
            "needs_background": "light"
          },
          "output_type": "display_data"
        }
      ],
      "source": [
        "img = cv.imread(\"shapes.png\")\n",
        "plt.imshow(img)\n",
        "plt.title('Grey Scale Image')\n",
        "plt.show()"
      ]
    },
    {
      "cell_type": "code",
      "execution_count": null,
      "metadata": {
        "id": "rEfHg5-iL5JW",
        "outputId": "32038697-36ef-4de5-cb75-7e5a9a4b8dcd"
      },
      "outputs": [
        {
          "data": {
            "image/png": "[encoded data removed]",
            "text/plain": [
              "<Figure size 432x288 with 1 Axes>"
            ]
          },
          "metadata": {
            "needs_background": "light"
          },
          "output_type": "display_data"
        }
      ],
      "source": [
        "ret, thresh1 = cv.threshold(img, 100,255, cv.THRESH_BINARY)\n",
        "plt.imshow(thresh1)\n",
        "plt.title('Binary Image')\n",
        "plt.show()"
      ]
    },
    {
      "cell_type": "code",
      "execution_count": null,
      "metadata": {
        "id": "pRvmSp5IL5JW"
      },
      "outputs": [],
      "source": [
        "from skimage.measure import regionprops"
      ]
    },
    {
      "cell_type": "code",
      "execution_count": null,
      "metadata": {
        "id": "OUqLyYPrL5JX"
      },
      "outputs": [],
      "source": [
        "label_img = label(thresh1)\n",
        "regions = regionprops(label_img)"
      ]
    },
    {
      "cell_type": "code",
      "execution_count": null,
      "metadata": {
        "id": "J3r7FDQhL5JX",
        "outputId": "3d282fbf-ce53-4fe2-8f90-75c39924d84c"
      },
      "outputs": [
        {
          "name": "stdout",
          "output_type": "stream",
          "text": [
            "Area:  975\n",
            "BoundingBox:  (8, 4, 0, 33, 37, 3)\n",
            "Contour:  [[ 8  8  0]\n",
            " [ 8  8  1]\n",
            " [ 8  8  2]\n",
            " ...\n",
            " [32  8  0]\n",
            " [32  8  1]\n",
            " [32  8  2]]\n",
            "Area:  591\n",
            "BoundingBox:  (24, 24, 0, 41, 41, 3)\n",
            "Contour:  [[24 32  0]\n",
            " [24 32  1]\n",
            " [24 32  2]\n",
            " ...\n",
            " [40 32  0]\n",
            " [40 32  1]\n",
            " [40 32  2]]\n",
            "Area:  243\n",
            "BoundingBox:  (48, 40, 0, 57, 61, 3)\n",
            "Contour:  [[48 48  0]\n",
            " [48 48  1]\n",
            " [48 48  2]\n",
            " [48 49  0]\n",
            " [48 49  1]\n",
            " [48 49  2]\n",
            " [48 50  0]\n",
            " [48 50  1]\n",
            " [48 50  2]\n",
            " [49 48  0]\n",
            " [49 48  1]\n",
            " [49 48  2]\n",
            " [49 49  0]\n",
            " [49 49  1]\n",
            " [49 49  2]\n",
            " [49 50  0]\n",
            " [49 50  1]\n",
            " [49 50  2]\n",
            " [50 48  0]\n",
            " [50 48  1]\n",
            " [50 48  2]\n",
            " [50 49  0]\n",
            " [50 49  1]\n",
            " [50 49  2]\n",
            " [50 50  0]\n",
            " [50 50  1]\n",
            " [50 50  2]\n",
            " [51 48  0]\n",
            " [51 48  1]\n",
            " [51 48  2]\n",
            " [51 49  0]\n",
            " [51 49  1]\n",
            " [51 49  2]\n",
            " [51 50  0]\n",
            " [51 50  1]\n",
            " [51 50  2]\n",
            " [52 40  0]\n",
            " [52 40  1]\n",
            " [52 40  2]\n",
            " [52 41  0]\n",
            " [52 41  1]\n",
            " [52 41  2]\n",
            " [52 42  0]\n",
            " [52 42  1]\n",
            " [52 42  2]\n",
            " [52 43  0]\n",
            " [52 43  1]\n",
            " [52 43  2]\n",
            " [52 44  0]\n",
            " [52 44  1]\n",
            " [52 44  2]\n",
            " [52 45  0]\n",
            " [52 45  1]\n",
            " [52 45  2]\n",
            " [52 46  0]\n",
            " [52 46  1]\n",
            " [52 46  2]\n",
            " [52 47  0]\n",
            " [52 47  1]\n",
            " [52 47  2]\n",
            " [52 48  0]\n",
            " [52 48  1]\n",
            " [52 48  2]\n",
            " [52 49  0]\n",
            " [52 49  1]\n",
            " [52 49  2]\n",
            " [52 50  0]\n",
            " [52 50  1]\n",
            " [52 50  2]\n",
            " [52 51  0]\n",
            " [52 51  1]\n",
            " [52 51  2]\n",
            " [52 52  0]\n",
            " [52 52  1]\n",
            " [52 52  2]\n",
            " [52 53  0]\n",
            " [52 53  1]\n",
            " [52 53  2]\n",
            " [52 54  0]\n",
            " [52 54  1]\n",
            " [52 54  2]\n",
            " [52 55  0]\n",
            " [52 55  1]\n",
            " [52 55  2]\n",
            " [52 56  0]\n",
            " [52 56  1]\n",
            " [52 56  2]\n",
            " [52 57  0]\n",
            " [52 57  1]\n",
            " [52 57  2]\n",
            " [52 58  0]\n",
            " [52 58  1]\n",
            " [52 58  2]\n",
            " [52 59  0]\n",
            " [52 59  1]\n",
            " [52 59  2]\n",
            " [52 60  0]\n",
            " [52 60  1]\n",
            " [52 60  2]\n",
            " [53 40  0]\n",
            " [53 40  1]\n",
            " [53 40  2]\n",
            " [53 41  0]\n",
            " [53 41  1]\n",
            " [53 41  2]\n",
            " [53 42  0]\n",
            " [53 42  1]\n",
            " [53 42  2]\n",
            " [53 43  0]\n",
            " [53 43  1]\n",
            " [53 43  2]\n",
            " [53 44  0]\n",
            " [53 44  1]\n",
            " [53 44  2]\n",
            " [53 45  0]\n",
            " [53 45  1]\n",
            " [53 45  2]\n",
            " [53 46  0]\n",
            " [53 46  1]\n",
            " [53 46  2]\n",
            " [53 47  0]\n",
            " [53 47  1]\n",
            " [53 47  2]\n",
            " [53 48  0]\n",
            " [53 48  1]\n",
            " [53 48  2]\n",
            " [53 49  0]\n",
            " [53 49  1]\n",
            " [53 49  2]\n",
            " [53 50  0]\n",
            " [53 50  1]\n",
            " [53 50  2]\n",
            " [53 51  0]\n",
            " [53 51  1]\n",
            " [53 51  2]\n",
            " [53 52  0]\n",
            " [53 52  1]\n",
            " [53 52  2]\n",
            " [53 53  0]\n",
            " [53 53  1]\n",
            " [53 53  2]\n",
            " [53 54  0]\n",
            " [53 54  1]\n",
            " [53 54  2]\n",
            " [53 55  0]\n",
            " [53 55  1]\n",
            " [53 55  2]\n",
            " [53 56  0]\n",
            " [53 56  1]\n",
            " [53 56  2]\n",
            " [53 57  0]\n",
            " [53 57  1]\n",
            " [53 57  2]\n",
            " [53 58  0]\n",
            " [53 58  1]\n",
            " [53 58  2]\n",
            " [53 59  0]\n",
            " [53 59  1]\n",
            " [53 59  2]\n",
            " [53 60  0]\n",
            " [53 60  1]\n",
            " [53 60  2]\n",
            " [54 40  0]\n",
            " [54 40  1]\n",
            " [54 40  2]\n",
            " [54 41  0]\n",
            " [54 41  1]\n",
            " [54 41  2]\n",
            " [54 42  0]\n",
            " [54 42  1]\n",
            " [54 42  2]\n",
            " [54 43  0]\n",
            " [54 43  1]\n",
            " [54 43  2]\n",
            " [54 44  0]\n",
            " [54 44  1]\n",
            " [54 44  2]\n",
            " [54 45  0]\n",
            " [54 45  1]\n",
            " [54 45  2]\n",
            " [54 46  0]\n",
            " [54 46  1]\n",
            " [54 46  2]\n",
            " [54 47  0]\n",
            " [54 47  1]\n",
            " [54 47  2]\n",
            " [54 48  0]\n",
            " [54 48  1]\n",
            " [54 48  2]\n",
            " [54 49  0]\n",
            " [54 49  1]\n",
            " [54 49  2]\n",
            " [54 50  0]\n",
            " [54 50  1]\n",
            " [54 50  2]\n",
            " [54 51  0]\n",
            " [54 51  1]\n",
            " [54 51  2]\n",
            " [54 52  0]\n",
            " [54 52  1]\n",
            " [54 52  2]\n",
            " [54 53  0]\n",
            " [54 53  1]\n",
            " [54 53  2]\n",
            " [54 54  0]\n",
            " [54 54  1]\n",
            " [54 54  2]\n",
            " [54 55  0]\n",
            " [54 55  1]\n",
            " [54 55  2]\n",
            " [54 56  0]\n",
            " [54 56  1]\n",
            " [54 56  2]\n",
            " [54 57  0]\n",
            " [54 57  1]\n",
            " [54 57  2]\n",
            " [54 58  0]\n",
            " [54 58  1]\n",
            " [54 58  2]\n",
            " [54 59  0]\n",
            " [54 59  1]\n",
            " [54 59  2]\n",
            " [54 60  0]\n",
            " [54 60  1]\n",
            " [54 60  2]\n",
            " [55 48  0]\n",
            " [55 48  1]\n",
            " [55 48  2]\n",
            " [55 49  0]\n",
            " [55 49  1]\n",
            " [55 49  2]\n",
            " [55 50  0]\n",
            " [55 50  1]\n",
            " [55 50  2]\n",
            " [56 48  0]\n",
            " [56 48  1]\n",
            " [56 48  2]\n",
            " [56 49  0]\n",
            " [56 49  1]\n",
            " [56 49  2]\n",
            " [56 50  0]\n",
            " [56 50  1]\n",
            " [56 50  2]]\n"
          ]
        }
      ],
      "source": [
        "for props in regions:\n",
        "    print(\"Area: \",props.area)\n",
        "    print(\"BoundingBox: \", props.bbox)\n",
        "    print(\"Contour: \", props.coords)\n"
      ]
    },
    {
      "cell_type": "code",
      "execution_count": null,
      "metadata": {
        "id": "m8m6DexzL5JX",
        "outputId": "8b00ef86-fb21-4a7d-91bf-4c1c9f802205"
      },
      "outputs": [
        {
          "name": "stdout",
          "output_type": "stream",
          "text": [
            "N4 labels:  64\n"
          ]
        }
      ],
      "source": [
        "label_img = label(thresh1,1)\n",
        "print(\"N4 labels: \",len(label_img))"
      ]
    },
    {
      "cell_type": "code",
      "execution_count": null,
      "metadata": {
        "id": "EtsLYh90L5JY",
        "outputId": "b44d4d06-994d-4c32-ca54-c77f0a49f084"
      },
      "outputs": [
        {
          "name": "stdout",
          "output_type": "stream",
          "text": [
            "N8 labels:  64\n"
          ]
        }
      ],
      "source": [
        "label_img = label(thresh1,2)\n",
        "print(\"N8 labels: \",len(label_img))"
      ]
    },
    {
      "cell_type": "code",
      "execution_count": null,
      "metadata": {
        "id": "IXrovdrPL5JY"
      },
      "outputs": [],
      "source": [
        "from skimage.morphology import dilation"
      ]
    },
    {
      "cell_type": "code",
      "execution_count": null,
      "metadata": {
        "id": "5cdpuVVvL5JY",
        "outputId": "a194bae3-5adf-46db-e407-9a601e59f840"
      },
      "outputs": [
        {
          "data": {
            "text/plain": [
              "Text(0.5, 1.0, 'Dilated Img')"
            ]
          },
          "execution_count": 86,
          "metadata": {},
          "output_type": "execute_result"
        },
        {
          "data": {
            "image/png": "[encoded data removed]",
            "text/plain": [
              "<Figure size 1440x720 with 2 Axes>"
            ]
          },
          "metadata": {
            "needs_background": "light"
          },
          "output_type": "display_data"
        }
      ],
      "source": [
        "fig = plt.figure(figsize = (20,10))\n",
        "\n",
        "ax = fig.add_subplot(121)\n",
        "ax.imshow(thresh1, aspect='auto')\n",
        "ax.set_title('Binary Img', fontsize=20)\n",
        "\n",
        "ax = fig.add_subplot(122)\n",
        "ax.imshow(dilation(thresh1), aspect='auto')\n",
        "ax.set_title('Dilated Img', fontsize=20)"
      ]
    },
    {
      "cell_type": "markdown",
      "metadata": {
        "id": "UWVtRC8wL5JZ"
      },
      "source": [
        "# Problem 3"
      ]
    },
    {
      "cell_type": "code",
      "execution_count": null,
      "metadata": {
        "id": "oPT1yHbeL5Ja",
        "outputId": "83df9552-f5e7-4a76-b665-f8290d3f9357"
      },
      "outputs": [
        {
          "name": "stdout",
          "output_type": "stream",
          "text": [
            "The Euclidean Coordinate is (2.0, 3.0)\n"
          ]
        }
      ],
      "source": [
        "l1 = np.array([1,1,-5])\n",
        "l2 = np.array([4,-5,7])\n",
        "hc = np.cross(l1,l2)\n",
        "ec = hc/hc[-1]\n",
        "Euclidean = ec[:-1]\n",
        "print(\"The Euclidean Coordinate is\", (Euclidean[0], Euclidean[1]))"
      ]
    },
    {
      "cell_type": "markdown",
      "metadata": {
        "id": "7tq97VVIL5Ja"
      },
      "source": [
        "# Problem 4"
      ]
    },
    {
      "cell_type": "code",
      "execution_count": null,
      "metadata": {
        "id": "PW2_3qQ-L5Ja"
      },
      "outputs": [],
      "source": [
        "R = np.array([\n",
        "    [0.9,0.4,0.1732],\n",
        "    [-0.4183,0.9043,0.0854],\n",
        "    [-0.1225,-0.1493,0.9812]\n",
        "])\n",
        "Cw = np.array([-1,-2,-3]) #location of the camera-center in world coordinates"
      ]
    },
    {
      "cell_type": "markdown",
      "metadata": {
        "id": "m4Gg5Ek0L5Jb"
      },
      "source": [
        "Extrinsic Parameter takes the form of $[R|t]$\n",
        "\n",
        "Let C be a column vector describing the location of the camera-center in world coordinates, and let Rc be the rotation matrix describing the camera's orientation with respect to the world coordinate axes. The transformation matrix that describes the camera's pose is then $[Rc|C]$\n",
        "\n",
        " And we have $[R|t]$ = $[Rc^T|-Rc^TC]$"
      ]
    },
    {
      "cell_type": "code",
      "execution_count": null,
      "metadata": {
        "id": "fd0aoTfcL5Jb"
      },
      "outputs": [],
      "source": [
        "Rc = R.T"
      ]
    },
    {
      "cell_type": "code",
      "execution_count": null,
      "metadata": {
        "id": "2ScUUKkxL5Jb"
      },
      "outputs": [],
      "source": [
        "t = -Rc@Cw.T"
      ]
    },
    {
      "cell_type": "code",
      "execution_count": null,
      "metadata": {
        "id": "ONDE8wgXL5Jb",
        "outputId": "184827c3-6695-4082-9f06-7afd6970eaf5"
      },
      "outputs": [
        {
          "data": {
            "text/plain": [
              "array([[ 0.9   ,  0.4   ,  0.1732, -0.3041],\n",
              "       [-0.4183,  0.9043,  0.0854,  1.7607],\n",
              "       [-0.1225, -0.1493,  0.9812,  3.2876]])"
            ]
          },
          "execution_count": 71,
          "metadata": {},
          "output_type": "execute_result"
        }
      ],
      "source": [
        "np.concatenate((R,t), axis=1)"
      ]
    },
    {
      "cell_type": "markdown",
      "metadata": {
        "id": "uhNs86jfL5Jb"
      },
      "source": []
    }
  ],
  "metadata": {
    "kernelspec": {
      "display_name": "Python 3.9.12 ('base')",
      "language": "python",
      "name": "python3"
    },
    "language_info": {
      "codemirror_mode": {
        "name": "ipython",
        "version": 3
      },
      "file_extension": ".py",
      "mimetype": "text/x-python",
      "name": "python",
      "nbconvert_exporter": "python",
      "pygments_lexer": "ipython3",
      "version": "3.9.12"
    },
    "orig_nbformat": 4,
    "vscode": {
      "interpreter": {
        "hash": "23fce98ecaf2c3b9a80c43a789d4af23921c8e1e3b3385321451b42223a803f1"
      }
    },
    "colab": {
      "provenance": [],
      "include_colab_link": true
    }
  },
  "nbformat": 4,
  "nbformat_minor": 0
}